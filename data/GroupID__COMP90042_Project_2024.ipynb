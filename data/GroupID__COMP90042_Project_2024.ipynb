{
  "cells": [
    {
      "cell_type": "markdown",
      "metadata": {
        "id": "32yCsRUo8H33"
      },
      "source": [
        "# 2024 COMP90042 Project\n",
        "*Yaoyuan Zhang ID:1410123*"
      ]
    },
    {
      "cell_type": "code",
      "source": [
        "from google.colab import drive\n",
        "drive.mount('/content/drive')"
      ],
      "metadata": {
        "id": "XOv_Gy7e2IAB"
      },
      "execution_count": null,
      "outputs": []
    },
    {
      "cell_type": "code",
      "source": [
        "!pip install rank_bm25"
      ],
      "metadata": {
        "colab": {
          "base_uri": "https://localhost:8080/"
        },
        "id": "kRvzHhBs49YG",
        "outputId": "d34f3d67-8fcc-4655-bb0a-93abb14f32b2"
      },
      "execution_count": 3,
      "outputs": [
        {
          "output_type": "stream",
          "name": "stdout",
          "text": [
            "Collecting rank_bm25\n",
            "  Downloading rank_bm25-0.2.2-py3-none-any.whl (8.6 kB)\n",
            "Requirement already satisfied: numpy in /usr/local/lib/python3.10/dist-packages (from rank_bm25) (1.25.2)\n",
            "Installing collected packages: rank_bm25\n",
            "Successfully installed rank_bm25-0.2.2\n"
          ]
        }
      ]
    },
    {
      "cell_type": "markdown",
      "metadata": {
        "id": "XCybYoGz8YWQ"
      },
      "source": [
        "# Readme\n",
        "*If there is something to be noted for the marker, please mention here.*\n",
        "\n",
        "*If you are planning to implement a program with Object Oriented Programming style, please put those the bottom of this ipynb file*"
      ]
    },
    {
      "cell_type": "markdown",
      "metadata": {
        "id": "6po98qVA8bJD"
      },
      "source": [
        "# 1.DataSet Processing\n",
        "(You can add as many code blocks and text blocks as you need. However, YOU SHOULD NOT MODIFY the section title)"
      ]
    },
    {
      "cell_type": "code",
      "execution_count": 7,
      "metadata": {
        "id": "qvff21Hv8zjk",
        "colab": {
          "base_uri": "https://localhost:8080/",
          "height": 408
        },
        "outputId": "378c4c9c-4596-4c41-b067-85046bf3c325"
      },
      "outputs": [
        {
          "output_type": "stream",
          "name": "stderr",
          "text": [
            "[nltk_data] Downloading package stopwords to /root/nltk_data...\n",
            "[nltk_data]   Package stopwords is already up-to-date!\n",
            "[nltk_data] Downloading package wordnet to /root/nltk_data...\n",
            "[nltk_data]   Package wordnet is already up-to-date!\n"
          ]
        },
        {
          "output_type": "error",
          "ename": "ValueError",
          "evalue": "Unmatched ''\"' when when decoding 'string'",
          "traceback": [
            "\u001b[0;31m---------------------------------------------------------------------------\u001b[0m",
            "\u001b[0;31mValueError\u001b[0m                                Traceback (most recent call last)",
            "\u001b[0;32m<ipython-input-7-de71dd6166d0>\u001b[0m in \u001b[0;36m<cell line: 38>\u001b[0;34m()\u001b[0m\n\u001b[1;32m     36\u001b[0m \u001b[0mdev_claims\u001b[0m \u001b[0;34m=\u001b[0m \u001b[0mpd\u001b[0m\u001b[0;34m.\u001b[0m\u001b[0mread_json\u001b[0m\u001b[0;34m(\u001b[0m\u001b[0;34m'/content/Fact_Checking_System/data/dev-claims.json'\u001b[0m\u001b[0;34m,\u001b[0m \u001b[0mlines\u001b[0m\u001b[0;34m=\u001b[0m\u001b[0;32mTrue\u001b[0m\u001b[0;34m)\u001b[0m\u001b[0;34m\u001b[0m\u001b[0;34m\u001b[0m\u001b[0m\n\u001b[1;32m     37\u001b[0m \u001b[0mdev_claims_baselines\u001b[0m \u001b[0;34m=\u001b[0m \u001b[0mpd\u001b[0m\u001b[0;34m.\u001b[0m\u001b[0mread_json\u001b[0m\u001b[0;34m(\u001b[0m\u001b[0;34m'/content/Fact_Checking_System/data/dev-claims-baseline.json'\u001b[0m\u001b[0;34m,\u001b[0m \u001b[0mlines\u001b[0m \u001b[0;34m=\u001b[0m \u001b[0;32mTrue\u001b[0m\u001b[0;34m)\u001b[0m\u001b[0;34m\u001b[0m\u001b[0;34m\u001b[0m\u001b[0m\n\u001b[0;32m---> 38\u001b[0;31m \u001b[0mevidence\u001b[0m \u001b[0;34m=\u001b[0m  \u001b[0mpd\u001b[0m\u001b[0;34m.\u001b[0m\u001b[0mread_json\u001b[0m\u001b[0;34m(\u001b[0m\u001b[0;34m'/content/Fact_Checking_System/data/evidence.json'\u001b[0m\u001b[0;34m,\u001b[0m \u001b[0mlines\u001b[0m \u001b[0;34m=\u001b[0m \u001b[0;32mTrue\u001b[0m\u001b[0;34m)\u001b[0m\u001b[0;34m\u001b[0m\u001b[0;34m\u001b[0m\u001b[0m\n\u001b[0m\u001b[1;32m     39\u001b[0m \u001b[0mtest_claims\u001b[0m \u001b[0;34m=\u001b[0m \u001b[0mpd\u001b[0m\u001b[0;34m.\u001b[0m\u001b[0mread_json\u001b[0m\u001b[0;34m(\u001b[0m\u001b[0;34m'/content/Fact_Checking_System/data/test-claims-unlabelled.json'\u001b[0m\u001b[0;34m,\u001b[0m \u001b[0mlines\u001b[0m\u001b[0;34m=\u001b[0m\u001b[0;32mTrue\u001b[0m\u001b[0;34m)\u001b[0m\u001b[0;34m\u001b[0m\u001b[0;34m\u001b[0m\u001b[0m\n",
            "\u001b[0;32m/usr/local/lib/python3.10/dist-packages/pandas/io/json/_json.py\u001b[0m in \u001b[0;36mread_json\u001b[0;34m(path_or_buf, orient, typ, dtype, convert_axes, convert_dates, keep_default_dates, precise_float, date_unit, encoding, encoding_errors, lines, chunksize, compression, nrows, storage_options, dtype_backend, engine)\u001b[0m\n\u001b[1;32m    782\u001b[0m         \u001b[0;32mreturn\u001b[0m \u001b[0mjson_reader\u001b[0m\u001b[0;34m\u001b[0m\u001b[0;34m\u001b[0m\u001b[0m\n\u001b[1;32m    783\u001b[0m     \u001b[0;32melse\u001b[0m\u001b[0;34m:\u001b[0m\u001b[0;34m\u001b[0m\u001b[0;34m\u001b[0m\u001b[0m\n\u001b[0;32m--> 784\u001b[0;31m         \u001b[0;32mreturn\u001b[0m \u001b[0mjson_reader\u001b[0m\u001b[0;34m.\u001b[0m\u001b[0mread\u001b[0m\u001b[0;34m(\u001b[0m\u001b[0;34m)\u001b[0m\u001b[0;34m\u001b[0m\u001b[0;34m\u001b[0m\u001b[0m\n\u001b[0m\u001b[1;32m    785\u001b[0m \u001b[0;34m\u001b[0m\u001b[0m\n\u001b[1;32m    786\u001b[0m \u001b[0;34m\u001b[0m\u001b[0m\n",
            "\u001b[0;32m/usr/local/lib/python3.10/dist-packages/pandas/io/json/_json.py\u001b[0m in \u001b[0;36mread\u001b[0;34m(self)\u001b[0m\n\u001b[1;32m    971\u001b[0m                         \u001b[0mdata\u001b[0m \u001b[0;34m=\u001b[0m \u001b[0mensure_str\u001b[0m\u001b[0;34m(\u001b[0m\u001b[0mself\u001b[0m\u001b[0;34m.\u001b[0m\u001b[0mdata\u001b[0m\u001b[0;34m)\u001b[0m\u001b[0;34m\u001b[0m\u001b[0;34m\u001b[0m\u001b[0m\n\u001b[1;32m    972\u001b[0m                         \u001b[0mdata_lines\u001b[0m \u001b[0;34m=\u001b[0m \u001b[0mdata\u001b[0m\u001b[0;34m.\u001b[0m\u001b[0msplit\u001b[0m\u001b[0;34m(\u001b[0m\u001b[0;34m\"\\n\"\u001b[0m\u001b[0;34m)\u001b[0m\u001b[0;34m\u001b[0m\u001b[0;34m\u001b[0m\u001b[0m\n\u001b[0;32m--> 973\u001b[0;31m                         \u001b[0mobj\u001b[0m \u001b[0;34m=\u001b[0m \u001b[0mself\u001b[0m\u001b[0;34m.\u001b[0m\u001b[0m_get_object_parser\u001b[0m\u001b[0;34m(\u001b[0m\u001b[0mself\u001b[0m\u001b[0;34m.\u001b[0m\u001b[0m_combine_lines\u001b[0m\u001b[0;34m(\u001b[0m\u001b[0mdata_lines\u001b[0m\u001b[0;34m)\u001b[0m\u001b[0;34m)\u001b[0m\u001b[0;34m\u001b[0m\u001b[0;34m\u001b[0m\u001b[0m\n\u001b[0m\u001b[1;32m    974\u001b[0m                 \u001b[0;32melse\u001b[0m\u001b[0;34m:\u001b[0m\u001b[0;34m\u001b[0m\u001b[0;34m\u001b[0m\u001b[0m\n\u001b[1;32m    975\u001b[0m                     \u001b[0mobj\u001b[0m \u001b[0;34m=\u001b[0m \u001b[0mself\u001b[0m\u001b[0;34m.\u001b[0m\u001b[0m_get_object_parser\u001b[0m\u001b[0;34m(\u001b[0m\u001b[0mself\u001b[0m\u001b[0;34m.\u001b[0m\u001b[0mdata\u001b[0m\u001b[0;34m)\u001b[0m\u001b[0;34m\u001b[0m\u001b[0;34m\u001b[0m\u001b[0m\n",
            "\u001b[0;32m/usr/local/lib/python3.10/dist-packages/pandas/io/json/_json.py\u001b[0m in \u001b[0;36m_get_object_parser\u001b[0;34m(self, json)\u001b[0m\n\u001b[1;32m    999\u001b[0m         \u001b[0mobj\u001b[0m \u001b[0;34m=\u001b[0m \u001b[0;32mNone\u001b[0m\u001b[0;34m\u001b[0m\u001b[0;34m\u001b[0m\u001b[0m\n\u001b[1;32m   1000\u001b[0m         \u001b[0;32mif\u001b[0m \u001b[0mtyp\u001b[0m \u001b[0;34m==\u001b[0m \u001b[0;34m\"frame\"\u001b[0m\u001b[0;34m:\u001b[0m\u001b[0;34m\u001b[0m\u001b[0;34m\u001b[0m\u001b[0m\n\u001b[0;32m-> 1001\u001b[0;31m             \u001b[0mobj\u001b[0m \u001b[0;34m=\u001b[0m \u001b[0mFrameParser\u001b[0m\u001b[0;34m(\u001b[0m\u001b[0mjson\u001b[0m\u001b[0;34m,\u001b[0m \u001b[0;34m**\u001b[0m\u001b[0mkwargs\u001b[0m\u001b[0;34m)\u001b[0m\u001b[0;34m.\u001b[0m\u001b[0mparse\u001b[0m\u001b[0;34m(\u001b[0m\u001b[0;34m)\u001b[0m\u001b[0;34m\u001b[0m\u001b[0;34m\u001b[0m\u001b[0m\n\u001b[0m\u001b[1;32m   1002\u001b[0m \u001b[0;34m\u001b[0m\u001b[0m\n\u001b[1;32m   1003\u001b[0m         \u001b[0;32mif\u001b[0m \u001b[0mtyp\u001b[0m \u001b[0;34m==\u001b[0m \u001b[0;34m\"series\"\u001b[0m \u001b[0;32mor\u001b[0m \u001b[0mobj\u001b[0m \u001b[0;32mis\u001b[0m \u001b[0;32mNone\u001b[0m\u001b[0;34m:\u001b[0m\u001b[0;34m\u001b[0m\u001b[0;34m\u001b[0m\u001b[0m\n",
            "\u001b[0;32m/usr/local/lib/python3.10/dist-packages/pandas/io/json/_json.py\u001b[0m in \u001b[0;36mparse\u001b[0;34m(self)\u001b[0m\n\u001b[1;32m   1132\u001b[0m \u001b[0;34m\u001b[0m\u001b[0m\n\u001b[1;32m   1133\u001b[0m     \u001b[0;32mdef\u001b[0m \u001b[0mparse\u001b[0m\u001b[0;34m(\u001b[0m\u001b[0mself\u001b[0m\u001b[0;34m)\u001b[0m\u001b[0;34m:\u001b[0m\u001b[0;34m\u001b[0m\u001b[0;34m\u001b[0m\u001b[0m\n\u001b[0;32m-> 1134\u001b[0;31m         \u001b[0mself\u001b[0m\u001b[0;34m.\u001b[0m\u001b[0m_parse\u001b[0m\u001b[0;34m(\u001b[0m\u001b[0;34m)\u001b[0m\u001b[0;34m\u001b[0m\u001b[0;34m\u001b[0m\u001b[0m\n\u001b[0m\u001b[1;32m   1135\u001b[0m \u001b[0;34m\u001b[0m\u001b[0m\n\u001b[1;32m   1136\u001b[0m         \u001b[0;32mif\u001b[0m \u001b[0mself\u001b[0m\u001b[0;34m.\u001b[0m\u001b[0mobj\u001b[0m \u001b[0;32mis\u001b[0m \u001b[0;32mNone\u001b[0m\u001b[0;34m:\u001b[0m\u001b[0;34m\u001b[0m\u001b[0;34m\u001b[0m\u001b[0m\n",
            "\u001b[0;32m/usr/local/lib/python3.10/dist-packages/pandas/io/json/_json.py\u001b[0m in \u001b[0;36m_parse\u001b[0;34m(self)\u001b[0m\n\u001b[1;32m   1318\u001b[0m         \u001b[0;32mif\u001b[0m \u001b[0morient\u001b[0m \u001b[0;34m==\u001b[0m \u001b[0;34m\"columns\"\u001b[0m\u001b[0;34m:\u001b[0m\u001b[0;34m\u001b[0m\u001b[0;34m\u001b[0m\u001b[0m\n\u001b[1;32m   1319\u001b[0m             self.obj = DataFrame(\n\u001b[0;32m-> 1320\u001b[0;31m                 \u001b[0mloads\u001b[0m\u001b[0;34m(\u001b[0m\u001b[0mjson\u001b[0m\u001b[0;34m,\u001b[0m \u001b[0mprecise_float\u001b[0m\u001b[0;34m=\u001b[0m\u001b[0mself\u001b[0m\u001b[0;34m.\u001b[0m\u001b[0mprecise_float\u001b[0m\u001b[0;34m)\u001b[0m\u001b[0;34m,\u001b[0m \u001b[0mdtype\u001b[0m\u001b[0;34m=\u001b[0m\u001b[0;32mNone\u001b[0m\u001b[0;34m\u001b[0m\u001b[0;34m\u001b[0m\u001b[0m\n\u001b[0m\u001b[1;32m   1321\u001b[0m             )\n\u001b[1;32m   1322\u001b[0m         \u001b[0;32melif\u001b[0m \u001b[0morient\u001b[0m \u001b[0;34m==\u001b[0m \u001b[0;34m\"split\"\u001b[0m\u001b[0;34m:\u001b[0m\u001b[0;34m\u001b[0m\u001b[0;34m\u001b[0m\u001b[0m\n",
            "\u001b[0;31mValueError\u001b[0m: Unmatched ''\"' when when decoding 'string'"
          ]
        }
      ],
      "source": [
        "import numpy as np\n",
        "import pandas as pd\n",
        "\n",
        "#libraries for getting data and extracting\n",
        "import os\n",
        "import urllib.request\n",
        "import tarfile\n",
        "import json\n",
        "import pandas as pd\n",
        "import numpy as np\n",
        "from tqdm import tqdm\n",
        "\n",
        "\n",
        "#libraries for text preprocessing\n",
        "import re\n",
        "import nltk\n",
        "nltk.download('stopwords')\n",
        "from nltk.corpus import stopwords\n",
        "from nltk.stem.porter import PorterStemmer\n",
        "nltk.download('wordnet')\n",
        "from nltk.stem.wordnet import WordNetLemmatizer\n",
        "\n",
        "#libraries for keyword extraction with tf-idf\n",
        "from sklearn.feature_extraction.text import CountVectorizer\n",
        "from sklearn.feature_extraction.text import TfidfTransformer\n",
        "from scipy.sparse import coo_matrix\n",
        "\n",
        "#libraries for reading and writing files\n",
        "import pickle\n",
        "\n",
        "#libraries for BM25\n",
        "from rank_bm25 import BM25Okapi\n",
        "\n",
        "# Load Data\n",
        "train_claims = pd.read_json('/content/Fact_Checking_System/data/train-claims.json', lines=True)\n",
        "dev_claims = pd.read_json('/content/Fact_Checking_System/data/dev-claims.json', lines=True)\n",
        "dev_claims_baselines = pd.read_json('/content/Fact_Checking_System/data/dev-claims-baseline.json', lines = True)\n",
        "evidence =  pd.read_json('/content/Fact_Checking_System/data/evidence.json', lines = True)\n",
        "test_claims = pd.read_json('/content/Fact_Checking_System/data/test-claims-unlabelled.json', lines=True)"
      ]
    },
    {
      "cell_type": "code",
      "execution_count": null,
      "metadata": {
        "id": "4ahkevtq1pMr",
        "outputId": "e738f27f-6f15-4e6f-e3af-2b724caf5bc7"
      },
      "outputs": [
        {
          "data": {
            "text/html": [
              "<div>\n",
              "<style scoped>\n",
              "    .dataframe tbody tr th:only-of-type {\n",
              "        vertical-align: middle;\n",
              "    }\n",
              "\n",
              "    .dataframe tbody tr th {\n",
              "        vertical-align: top;\n",
              "    }\n",
              "\n",
              "    .dataframe thead th {\n",
              "        text-align: right;\n",
              "    }\n",
              "</style>\n",
              "<table border=\"1\" class=\"dataframe\">\n",
              "  <thead>\n",
              "    <tr style=\"text-align: right;\">\n",
              "      <th></th>\n",
              "      <th>claim-1937</th>\n",
              "      <th>claim-126</th>\n",
              "      <th>claim-2510</th>\n",
              "      <th>claim-2021</th>\n",
              "      <th>claim-2449</th>\n",
              "      <th>claim-851</th>\n",
              "      <th>claim-2773</th>\n",
              "      <th>claim-949</th>\n",
              "      <th>claim-1019</th>\n",
              "      <th>claim-2834</th>\n",
              "      <th>...</th>\n",
              "      <th>claim-2076</th>\n",
              "      <th>claim-2508</th>\n",
              "      <th>claim-2049</th>\n",
              "      <th>claim-1333</th>\n",
              "      <th>claim-1316</th>\n",
              "      <th>claim-1504</th>\n",
              "      <th>claim-243</th>\n",
              "      <th>claim-2302</th>\n",
              "      <th>claim-502</th>\n",
              "      <th>claim-3093</th>\n",
              "    </tr>\n",
              "  </thead>\n",
              "  <tbody>\n",
              "    <tr>\n",
              "      <th>0</th>\n",
              "      <td>{'claim_text': 'Not only is there no scientifi...</td>\n",
              "      <td>{'claim_text': 'El Niño drove record highs in ...</td>\n",
              "      <td>{'claim_text': 'In 1946, PDO switched to a coo...</td>\n",
              "      <td>{'claim_text': 'Weather Channel co-founder Joh...</td>\n",
              "      <td>{'claim_text': '\"January 2008 capped a 12 mont...</td>\n",
              "      <td>{'claim_text': 'The last time the planet was e...</td>\n",
              "      <td>{'claim_text': 'Tree-ring proxy reconstruction...</td>\n",
              "      <td>{'claim_text': 'Under the most ambitious scena...</td>\n",
              "      <td>{'claim_text': 'An additional kick was supplie...</td>\n",
              "      <td>{'claim_text': 'When stomata-derived CO2 (red)...</td>\n",
              "      <td>...</td>\n",
              "      <td>{'claim_text': 'Snowfall is increasing in the ...</td>\n",
              "      <td>{'claim_text': '\"The Pacific Decadal Oscillati...</td>\n",
              "      <td>{'claim_text': 'The Millennium Drought startin...</td>\n",
              "      <td>{'claim_text': '“The oceans will never become ...</td>\n",
              "      <td>{'claim_text': 'In pushing too hard for the ca...</td>\n",
              "      <td>{'claim_text': 'Climate scientists say that as...</td>\n",
              "      <td>{'claim_text': 'In its 5th assessment report i...</td>\n",
              "      <td>{'claim_text': 'Since the mid 1970s, global te...</td>\n",
              "      <td>{'claim_text': 'But abnormal temperature spike...</td>\n",
              "      <td>{'claim_text': 'Sending oscillating microwaves...</td>\n",
              "    </tr>\n",
              "  </tbody>\n",
              "</table>\n",
              "<p>1 rows × 1228 columns</p>\n",
              "</div>"
            ],
            "text/plain": [
              "                                          claim-1937  \\\n",
              "0  {'claim_text': 'Not only is there no scientifi...   \n",
              "\n",
              "                                           claim-126  \\\n",
              "0  {'claim_text': 'El Niño drove record highs in ...   \n",
              "\n",
              "                                          claim-2510  \\\n",
              "0  {'claim_text': 'In 1946, PDO switched to a coo...   \n",
              "\n",
              "                                          claim-2021  \\\n",
              "0  {'claim_text': 'Weather Channel co-founder Joh...   \n",
              "\n",
              "                                          claim-2449  \\\n",
              "0  {'claim_text': '\"January 2008 capped a 12 mont...   \n",
              "\n",
              "                                           claim-851  \\\n",
              "0  {'claim_text': 'The last time the planet was e...   \n",
              "\n",
              "                                          claim-2773  \\\n",
              "0  {'claim_text': 'Tree-ring proxy reconstruction...   \n",
              "\n",
              "                                           claim-949  \\\n",
              "0  {'claim_text': 'Under the most ambitious scena...   \n",
              "\n",
              "                                          claim-1019  \\\n",
              "0  {'claim_text': 'An additional kick was supplie...   \n",
              "\n",
              "                                          claim-2834  ...  \\\n",
              "0  {'claim_text': 'When stomata-derived CO2 (red)...  ...   \n",
              "\n",
              "                                          claim-2076  \\\n",
              "0  {'claim_text': 'Snowfall is increasing in the ...   \n",
              "\n",
              "                                          claim-2508  \\\n",
              "0  {'claim_text': '\"The Pacific Decadal Oscillati...   \n",
              "\n",
              "                                          claim-2049  \\\n",
              "0  {'claim_text': 'The Millennium Drought startin...   \n",
              "\n",
              "                                          claim-1333  \\\n",
              "0  {'claim_text': '“The oceans will never become ...   \n",
              "\n",
              "                                          claim-1316  \\\n",
              "0  {'claim_text': 'In pushing too hard for the ca...   \n",
              "\n",
              "                                          claim-1504  \\\n",
              "0  {'claim_text': 'Climate scientists say that as...   \n",
              "\n",
              "                                           claim-243  \\\n",
              "0  {'claim_text': 'In its 5th assessment report i...   \n",
              "\n",
              "                                          claim-2302  \\\n",
              "0  {'claim_text': 'Since the mid 1970s, global te...   \n",
              "\n",
              "                                           claim-502  \\\n",
              "0  {'claim_text': 'But abnormal temperature spike...   \n",
              "\n",
              "                                          claim-3093  \n",
              "0  {'claim_text': 'Sending oscillating microwaves...  \n",
              "\n",
              "[1 rows x 1228 columns]"
            ]
          },
          "execution_count": 2,
          "metadata": {},
          "output_type": "execute_result"
        }
      ],
      "source": [
        "train_claims"
      ]
    },
    {
      "cell_type": "code",
      "execution_count": null,
      "metadata": {
        "id": "EzKnswhc1pMr"
      },
      "outputs": [],
      "source": [
        "claim_texts = train_claims.apply(lambda col: col.map(lambda x: x.get('claim_text') if isinstance(x, dict) else None))"
      ]
    },
    {
      "cell_type": "code",
      "execution_count": null,
      "metadata": {
        "id": "18HujEe11pMr",
        "outputId": "f0304171-b669-4e11-c322-f9f358daa585"
      },
      "outputs": [
        {
          "data": {
            "text/html": [
              "<div>\n",
              "<style scoped>\n",
              "    .dataframe tbody tr th:only-of-type {\n",
              "        vertical-align: middle;\n",
              "    }\n",
              "\n",
              "    .dataframe tbody tr th {\n",
              "        vertical-align: top;\n",
              "    }\n",
              "\n",
              "    .dataframe thead th {\n",
              "        text-align: right;\n",
              "    }\n",
              "</style>\n",
              "<table border=\"1\" class=\"dataframe\">\n",
              "  <thead>\n",
              "    <tr style=\"text-align: right;\">\n",
              "      <th></th>\n",
              "      <th>claim-1937</th>\n",
              "      <th>claim-126</th>\n",
              "      <th>claim-2510</th>\n",
              "      <th>claim-2021</th>\n",
              "      <th>claim-2449</th>\n",
              "      <th>claim-851</th>\n",
              "      <th>claim-2773</th>\n",
              "      <th>claim-949</th>\n",
              "      <th>claim-1019</th>\n",
              "      <th>claim-2834</th>\n",
              "      <th>...</th>\n",
              "      <th>claim-2076</th>\n",
              "      <th>claim-2508</th>\n",
              "      <th>claim-2049</th>\n",
              "      <th>claim-1333</th>\n",
              "      <th>claim-1316</th>\n",
              "      <th>claim-1504</th>\n",
              "      <th>claim-243</th>\n",
              "      <th>claim-2302</th>\n",
              "      <th>claim-502</th>\n",
              "      <th>claim-3093</th>\n",
              "    </tr>\n",
              "  </thead>\n",
              "  <tbody>\n",
              "    <tr>\n",
              "      <th>0</th>\n",
              "      <td>Not only is there no scientific evidence that ...</td>\n",
              "      <td>El Niño drove record highs in global temperatu...</td>\n",
              "      <td>In 1946, PDO switched to a cool phase.</td>\n",
              "      <td>Weather Channel co-founder John Coleman provid...</td>\n",
              "      <td>\"January 2008 capped a 12 month period of glob...</td>\n",
              "      <td>The last time the planet was even four degrees...</td>\n",
              "      <td>Tree-ring proxy reconstructions are reliable b...</td>\n",
              "      <td>Under the most ambitious scenarios, they found...</td>\n",
              "      <td>An additional kick was supplied by an El Niño ...</td>\n",
              "      <td>When stomata-derived CO2 (red) is compared to ...</td>\n",
              "      <td>...</td>\n",
              "      <td>Snowfall is increasing in the fall and winter ...</td>\n",
              "      <td>\"The Pacific Decadal Oscillation (PDO) is a te...</td>\n",
              "      <td>The Millennium Drought starting in 1997 and en...</td>\n",
              "      <td>“The oceans will never become acid because the...</td>\n",
              "      <td>In pushing too hard for the case that global w...</td>\n",
              "      <td>Climate scientists say that aspects of the cas...</td>\n",
              "      <td>In its 5th assessment report in 2013, the IPCC...</td>\n",
              "      <td>Since the mid 1970s, global temperatures have ...</td>\n",
              "      <td>But abnormal temperature spikes in February an...</td>\n",
              "      <td>Sending oscillating microwaves from an antenna...</td>\n",
              "    </tr>\n",
              "  </tbody>\n",
              "</table>\n",
              "<p>1 rows × 1228 columns</p>\n",
              "</div>"
            ],
            "text/plain": [
              "                                          claim-1937  \\\n",
              "0  Not only is there no scientific evidence that ...   \n",
              "\n",
              "                                           claim-126  \\\n",
              "0  El Niño drove record highs in global temperatu...   \n",
              "\n",
              "                               claim-2510  \\\n",
              "0  In 1946, PDO switched to a cool phase.   \n",
              "\n",
              "                                          claim-2021  \\\n",
              "0  Weather Channel co-founder John Coleman provid...   \n",
              "\n",
              "                                          claim-2449  \\\n",
              "0  \"January 2008 capped a 12 month period of glob...   \n",
              "\n",
              "                                           claim-851  \\\n",
              "0  The last time the planet was even four degrees...   \n",
              "\n",
              "                                          claim-2773  \\\n",
              "0  Tree-ring proxy reconstructions are reliable b...   \n",
              "\n",
              "                                           claim-949  \\\n",
              "0  Under the most ambitious scenarios, they found...   \n",
              "\n",
              "                                          claim-1019  \\\n",
              "0  An additional kick was supplied by an El Niño ...   \n",
              "\n",
              "                                          claim-2834  ...  \\\n",
              "0  When stomata-derived CO2 (red) is compared to ...  ...   \n",
              "\n",
              "                                          claim-2076  \\\n",
              "0  Snowfall is increasing in the fall and winter ...   \n",
              "\n",
              "                                          claim-2508  \\\n",
              "0  \"The Pacific Decadal Oscillation (PDO) is a te...   \n",
              "\n",
              "                                          claim-2049  \\\n",
              "0  The Millennium Drought starting in 1997 and en...   \n",
              "\n",
              "                                          claim-1333  \\\n",
              "0  “The oceans will never become acid because the...   \n",
              "\n",
              "                                          claim-1316  \\\n",
              "0  In pushing too hard for the case that global w...   \n",
              "\n",
              "                                          claim-1504  \\\n",
              "0  Climate scientists say that aspects of the cas...   \n",
              "\n",
              "                                           claim-243  \\\n",
              "0  In its 5th assessment report in 2013, the IPCC...   \n",
              "\n",
              "                                          claim-2302  \\\n",
              "0  Since the mid 1970s, global temperatures have ...   \n",
              "\n",
              "                                           claim-502  \\\n",
              "0  But abnormal temperature spikes in February an...   \n",
              "\n",
              "                                          claim-3093  \n",
              "0  Sending oscillating microwaves from an antenna...  \n",
              "\n",
              "[1 rows x 1228 columns]"
            ]
          },
          "execution_count": 4,
          "metadata": {},
          "output_type": "execute_result"
        }
      ],
      "source": [
        "claim_texts"
      ]
    },
    {
      "cell_type": "code",
      "execution_count": null,
      "metadata": {
        "id": "aXY2CEHD1pMr",
        "outputId": "e244f015-d396-49d6-a334-0a17d2f66d0f"
      },
      "outputs": [
        {
          "data": {
            "text/html": [
              "<div>\n",
              "<style scoped>\n",
              "    .dataframe tbody tr th:only-of-type {\n",
              "        vertical-align: middle;\n",
              "    }\n",
              "\n",
              "    .dataframe tbody tr th {\n",
              "        vertical-align: top;\n",
              "    }\n",
              "\n",
              "    .dataframe thead th {\n",
              "        text-align: right;\n",
              "    }\n",
              "</style>\n",
              "<table border=\"1\" class=\"dataframe\">\n",
              "  <thead>\n",
              "    <tr style=\"text-align: right;\">\n",
              "      <th></th>\n",
              "      <th>evidence-0</th>\n",
              "      <th>evidence-1</th>\n",
              "      <th>evidence-2</th>\n",
              "      <th>evidence-3</th>\n",
              "      <th>evidence-4</th>\n",
              "      <th>evidence-5</th>\n",
              "      <th>evidence-6</th>\n",
              "      <th>evidence-7</th>\n",
              "      <th>evidence-8</th>\n",
              "      <th>evidence-9</th>\n",
              "      <th>...</th>\n",
              "      <th>evidence-1208817</th>\n",
              "      <th>evidence-1208818</th>\n",
              "      <th>evidence-1208819</th>\n",
              "      <th>evidence-1208820</th>\n",
              "      <th>evidence-1208821</th>\n",
              "      <th>evidence-1208822</th>\n",
              "      <th>evidence-1208823</th>\n",
              "      <th>evidence-1208824</th>\n",
              "      <th>evidence-1208825</th>\n",
              "      <th>evidence-1208826</th>\n",
              "    </tr>\n",
              "  </thead>\n",
              "  <tbody>\n",
              "    <tr>\n",
              "      <th>0</th>\n",
              "      <td>John Bennet Lawes, English entrepreneur and ag...</td>\n",
              "      <td>Lindberg began his professional career at the ...</td>\n",
              "      <td>``Boston (Ladies of Cambridge)'' by Vampire We...</td>\n",
              "      <td>Gerald Francis Goyer (born October 20, 1936) w...</td>\n",
              "      <td>He detected abnormalities of oxytocinergic fun...</td>\n",
              "      <td>With peak winds of 110 mph (175 km/h) and a mi...</td>\n",
              "      <td>He is currently a professor of piano at the Un...</td>\n",
              "      <td>In addition to known and tangible risks, unfor...</td>\n",
              "      <td>Sir John Sherbrooke was able to hold her off f...</td>\n",
              "      <td>Aslan Tlebzu (Аслъан ЛIыбзэу [- adyaːsɬaːn ɬʼə...</td>\n",
              "      <td>...</td>\n",
              "      <td>They reached the final, where a record attenda...</td>\n",
              "      <td>Caria ([ˈkɛəriə] from Greek : Καρία, Karia, Ka...</td>\n",
              "      <td>Contemporary assumptions made about the circum...</td>\n",
              "      <td>Richard Arnold Kraus (August 27, 1937) is a Ma...</td>\n",
              "      <td>When his second wife died in 1874 Harry Grey e...</td>\n",
              "      <td>Also on the property is a contributing garage ...</td>\n",
              "      <td>| class = ``fn org'' | Fyrde | | | | 6110 | | ...</td>\n",
              "      <td>Dragon Storm (game), a role-playing game and c...</td>\n",
              "      <td>It states that the Zeriuani ``which is so grea...</td>\n",
              "      <td>The storyline revolves around a giant plesiosa...</td>\n",
              "    </tr>\n",
              "  </tbody>\n",
              "</table>\n",
              "<p>1 rows × 1208827 columns</p>\n",
              "</div>"
            ],
            "text/plain": [
              "                                          evidence-0  \\\n",
              "0  John Bennet Lawes, English entrepreneur and ag...   \n",
              "\n",
              "                                          evidence-1  \\\n",
              "0  Lindberg began his professional career at the ...   \n",
              "\n",
              "                                          evidence-2  \\\n",
              "0  ``Boston (Ladies of Cambridge)'' by Vampire We...   \n",
              "\n",
              "                                          evidence-3  \\\n",
              "0  Gerald Francis Goyer (born October 20, 1936) w...   \n",
              "\n",
              "                                          evidence-4  \\\n",
              "0  He detected abnormalities of oxytocinergic fun...   \n",
              "\n",
              "                                          evidence-5  \\\n",
              "0  With peak winds of 110 mph (175 km/h) and a mi...   \n",
              "\n",
              "                                          evidence-6  \\\n",
              "0  He is currently a professor of piano at the Un...   \n",
              "\n",
              "                                          evidence-7  \\\n",
              "0  In addition to known and tangible risks, unfor...   \n",
              "\n",
              "                                          evidence-8  \\\n",
              "0  Sir John Sherbrooke was able to hold her off f...   \n",
              "\n",
              "                                          evidence-9  ...  \\\n",
              "0  Aslan Tlebzu (Аслъан ЛIыбзэу [- adyaːsɬaːn ɬʼə...  ...   \n",
              "\n",
              "                                    evidence-1208817  \\\n",
              "0  They reached the final, where a record attenda...   \n",
              "\n",
              "                                    evidence-1208818  \\\n",
              "0  Caria ([ˈkɛəriə] from Greek : Καρία, Karia, Ka...   \n",
              "\n",
              "                                    evidence-1208819  \\\n",
              "0  Contemporary assumptions made about the circum...   \n",
              "\n",
              "                                    evidence-1208820  \\\n",
              "0  Richard Arnold Kraus (August 27, 1937) is a Ma...   \n",
              "\n",
              "                                    evidence-1208821  \\\n",
              "0  When his second wife died in 1874 Harry Grey e...   \n",
              "\n",
              "                                    evidence-1208822  \\\n",
              "0  Also on the property is a contributing garage ...   \n",
              "\n",
              "                                    evidence-1208823  \\\n",
              "0  | class = ``fn org'' | Fyrde | | | | 6110 | | ...   \n",
              "\n",
              "                                    evidence-1208824  \\\n",
              "0  Dragon Storm (game), a role-playing game and c...   \n",
              "\n",
              "                                    evidence-1208825  \\\n",
              "0  It states that the Zeriuani ``which is so grea...   \n",
              "\n",
              "                                    evidence-1208826  \n",
              "0  The storyline revolves around a giant plesiosa...  \n",
              "\n",
              "[1 rows x 1208827 columns]"
            ]
          },
          "execution_count": 5,
          "metadata": {},
          "output_type": "execute_result"
        }
      ],
      "source": [
        "evidence"
      ]
    },
    {
      "cell_type": "code",
      "execution_count": null,
      "metadata": {
        "id": "OwLJZWHq1pMr"
      },
      "outputs": [],
      "source": [
        "def preprocess(text):\n",
        "    # 假定 text 是字符串类型\n",
        "    if not isinstance(text, str):\n",
        "        return text  # 如果不是，直接返回原值\n",
        "    # 定义停用词\n",
        "    stop_words = set(stopwords.words(\"english\"))\n",
        "    # 其余的处理步骤\n",
        "    text = re.sub('[^a-zA-Z]', ' ', text)\n",
        "    text = text.lower()\n",
        "    text = re.sub(\"&lt;/?.*?&gt;\",\" &lt;&gt; \",text)\n",
        "    text = re.sub(\"(\\\\d|\\\\W)+\",\" \",text)\n",
        "    text = text.split()\n",
        "    ps = PorterStemmer()\n",
        "    text = [ps.stem(word) for word in text if not word in stop_words]\n",
        "    lem = WordNetLemmatizer()\n",
        "    text = [lem.lemmatize(word) for word in text if not word in stop_words]\n",
        "    text = \" \".join(text)\n",
        "    return text"
      ]
    },
    {
      "cell_type": "code",
      "execution_count": null,
      "metadata": {
        "id": "HZwU-khD1pMy"
      },
      "outputs": [],
      "source": [
        "batch_size = 10000\n",
        "preprocessed_batches = []\n",
        "\n",
        "for start in range(0, len(evidence), batch_size):\n",
        "    end = min(start + batch_size, len(evidence))\n",
        "    batch = evidence.iloc[start:end]\n",
        "    preprocessed_batch = batch.apply(preprocess)\n",
        "    preprocessed_batches.append(preprocessed_batch)\n",
        "\n",
        "df_preprocessed = pd.concat(preprocessed_batches, ignore_index=True)"
      ]
    },
    {
      "cell_type": "code",
      "execution_count": null,
      "metadata": {
        "id": "ZSNtafpo1pMy",
        "outputId": "02e032b9-c206-488a-a480-b6223cf04e9d"
      },
      "outputs": [
        {
          "data": {
            "text/html": [
              "<div>\n",
              "<style scoped>\n",
              "    .dataframe tbody tr th:only-of-type {\n",
              "        vertical-align: middle;\n",
              "    }\n",
              "\n",
              "    .dataframe tbody tr th {\n",
              "        vertical-align: top;\n",
              "    }\n",
              "\n",
              "    .dataframe thead th {\n",
              "        text-align: right;\n",
              "    }\n",
              "</style>\n",
              "<table border=\"1\" class=\"dataframe\">\n",
              "  <thead>\n",
              "    <tr style=\"text-align: right;\">\n",
              "      <th></th>\n",
              "      <th>evidence-0</th>\n",
              "      <th>evidence-1</th>\n",
              "      <th>evidence-2</th>\n",
              "      <th>evidence-3</th>\n",
              "      <th>evidence-4</th>\n",
              "      <th>evidence-5</th>\n",
              "      <th>evidence-6</th>\n",
              "      <th>evidence-7</th>\n",
              "      <th>evidence-8</th>\n",
              "      <th>evidence-9</th>\n",
              "      <th>...</th>\n",
              "      <th>evidence-1208817</th>\n",
              "      <th>evidence-1208818</th>\n",
              "      <th>evidence-1208819</th>\n",
              "      <th>evidence-1208820</th>\n",
              "      <th>evidence-1208821</th>\n",
              "      <th>evidence-1208822</th>\n",
              "      <th>evidence-1208823</th>\n",
              "      <th>evidence-1208824</th>\n",
              "      <th>evidence-1208825</th>\n",
              "      <th>evidence-1208826</th>\n",
              "    </tr>\n",
              "  </thead>\n",
              "  <tbody>\n",
              "    <tr>\n",
              "      <th>0</th>\n",
              "      <td>John Bennet Lawes, English entrepreneur and ag...</td>\n",
              "      <td>Lindberg began his professional career at the ...</td>\n",
              "      <td>``Boston (Ladies of Cambridge)'' by Vampire We...</td>\n",
              "      <td>Gerald Francis Goyer (born October 20, 1936) w...</td>\n",
              "      <td>He detected abnormalities of oxytocinergic fun...</td>\n",
              "      <td>With peak winds of 110 mph (175 km/h) and a mi...</td>\n",
              "      <td>He is currently a professor of piano at the Un...</td>\n",
              "      <td>In addition to known and tangible risks, unfor...</td>\n",
              "      <td>Sir John Sherbrooke was able to hold her off f...</td>\n",
              "      <td>Aslan Tlebzu (Аслъан ЛIыбзэу [- adyaːsɬaːn ɬʼə...</td>\n",
              "      <td>...</td>\n",
              "      <td>They reached the final, where a record attenda...</td>\n",
              "      <td>Caria ([ˈkɛəriə] from Greek : Καρία, Karia, Ka...</td>\n",
              "      <td>Contemporary assumptions made about the circum...</td>\n",
              "      <td>Richard Arnold Kraus (August 27, 1937) is a Ma...</td>\n",
              "      <td>When his second wife died in 1874 Harry Grey e...</td>\n",
              "      <td>Also on the property is a contributing garage ...</td>\n",
              "      <td>| class = ``fn org'' | Fyrde | | | | 6110 | | ...</td>\n",
              "      <td>Dragon Storm (game), a role-playing game and c...</td>\n",
              "      <td>It states that the Zeriuani ``which is so grea...</td>\n",
              "      <td>The storyline revolves around a giant plesiosa...</td>\n",
              "    </tr>\n",
              "  </tbody>\n",
              "</table>\n",
              "<p>1 rows × 1208827 columns</p>\n",
              "</div>"
            ],
            "text/plain": [
              "                                          evidence-0  \\\n",
              "0  John Bennet Lawes, English entrepreneur and ag...   \n",
              "\n",
              "                                          evidence-1  \\\n",
              "0  Lindberg began his professional career at the ...   \n",
              "\n",
              "                                          evidence-2  \\\n",
              "0  ``Boston (Ladies of Cambridge)'' by Vampire We...   \n",
              "\n",
              "                                          evidence-3  \\\n",
              "0  Gerald Francis Goyer (born October 20, 1936) w...   \n",
              "\n",
              "                                          evidence-4  \\\n",
              "0  He detected abnormalities of oxytocinergic fun...   \n",
              "\n",
              "                                          evidence-5  \\\n",
              "0  With peak winds of 110 mph (175 km/h) and a mi...   \n",
              "\n",
              "                                          evidence-6  \\\n",
              "0  He is currently a professor of piano at the Un...   \n",
              "\n",
              "                                          evidence-7  \\\n",
              "0  In addition to known and tangible risks, unfor...   \n",
              "\n",
              "                                          evidence-8  \\\n",
              "0  Sir John Sherbrooke was able to hold her off f...   \n",
              "\n",
              "                                          evidence-9  ...  \\\n",
              "0  Aslan Tlebzu (Аслъан ЛIыбзэу [- adyaːsɬaːn ɬʼə...  ...   \n",
              "\n",
              "                                    evidence-1208817  \\\n",
              "0  They reached the final, where a record attenda...   \n",
              "\n",
              "                                    evidence-1208818  \\\n",
              "0  Caria ([ˈkɛəriə] from Greek : Καρία, Karia, Ka...   \n",
              "\n",
              "                                    evidence-1208819  \\\n",
              "0  Contemporary assumptions made about the circum...   \n",
              "\n",
              "                                    evidence-1208820  \\\n",
              "0  Richard Arnold Kraus (August 27, 1937) is a Ma...   \n",
              "\n",
              "                                    evidence-1208821  \\\n",
              "0  When his second wife died in 1874 Harry Grey e...   \n",
              "\n",
              "                                    evidence-1208822  \\\n",
              "0  Also on the property is a contributing garage ...   \n",
              "\n",
              "                                    evidence-1208823  \\\n",
              "0  | class = ``fn org'' | Fyrde | | | | 6110 | | ...   \n",
              "\n",
              "                                    evidence-1208824  \\\n",
              "0  Dragon Storm (game), a role-playing game and c...   \n",
              "\n",
              "                                    evidence-1208825  \\\n",
              "0  It states that the Zeriuani ``which is so grea...   \n",
              "\n",
              "                                    evidence-1208826  \n",
              "0  The storyline revolves around a giant plesiosa...  \n",
              "\n",
              "[1 rows x 1208827 columns]"
            ]
          },
          "execution_count": 16,
          "metadata": {},
          "output_type": "execute_result"
        }
      ],
      "source": [
        "df_preprocessed"
      ]
    },
    {
      "cell_type": "markdown",
      "metadata": {
        "id": "p4-qTzkG1pMz"
      },
      "source": [
        "## ORGANIZE\n",
        "\n",
        "### Sort Coordinate Matrix\n",
        "\n",
        "#### Input\n",
        "- TF-IDF coordinate representation\n",
        "\n",
        "#### Output\n",
        "- TF-IDF items sorted in descending order — with items with the highest scores at the top.\n"
      ]
    },
    {
      "cell_type": "code",
      "execution_count": null,
      "metadata": {
        "id": "bUo_mfiT1pMz"
      },
      "outputs": [],
      "source": [
        "def sort_coo(coo_matrix):\n",
        "    tuples = zip(coo_matrix.col, coo_matrix.data)\n",
        "    return sorted(tuples, key=lambda x: (x[1], x[0]), reverse=True)\n",
        ""
      ]
    },
    {
      "cell_type": "code",
      "execution_count": null,
      "metadata": {
        "id": "w8M-G5Kc1pMz"
      },
      "outputs": [],
      "source": [
        "# get top n words with highest tf-idf scores\n",
        "# input:\n",
        "# 1. feature_names = vocabulary\n",
        "# 2. sorted_items = tf-idf vectors sorted in descending order\n",
        "# 3. topN = # of keywords you would like extract from text\n",
        "# output: dictionary of topN # words with highest tf-idf scores in the text (key) and their corresponding tf-idf scores (value)\n",
        "# Gets keyword names and their tf-idf scores of topN items\n",
        "def extract_topn_from_vector(feature_names, sorted_items, topN):\n",
        "    #use only topn items from vector\n",
        "    sorted_items = sorted_items[:topN]\n",
        "\n",
        "    score_vals = []\n",
        "    feature_vals = []\n",
        "    # word index and corresponding tf-idf score\n",
        "    for idx, score in sorted_items:\n",
        "        #keep track of feature name and its corresponding score\n",
        "        score_vals.append(round(score, 3))\n",
        "        feature_vals.append(feature_names[idx])\n",
        "\n",
        "    #create a tuples of feature,score\n",
        "    results= {}\n",
        "    for idx in range(len(feature_vals)):\n",
        "        results[feature_vals[idx]]=score_vals[idx]\n",
        "    return results"
      ]
    },
    {
      "cell_type": "markdown",
      "metadata": {
        "id": "1FA2ao2l8hOg"
      },
      "source": [
        "# 2. Model Implementation\n",
        "(You can add as many code blocks and text blocks as you need. However, YOU SHOULD NOT MODIFY the section title)"
      ]
    },
    {
      "cell_type": "code",
      "execution_count": null,
      "metadata": {
        "id": "QIEqDDT78q39"
      },
      "outputs": [],
      "source": []
    },
    {
      "cell_type": "markdown",
      "metadata": {
        "id": "EzGuzHPE87Ya"
      },
      "source": [
        "# 3.Testing and Evaluation\n",
        "(You can add as many code blocks and text blocks as you need. However, YOU SHOULD NOT MODIFY the section title)"
      ]
    },
    {
      "cell_type": "code",
      "execution_count": null,
      "metadata": {
        "id": "6ZVeNYIH9IaL"
      },
      "outputs": [],
      "source": []
    },
    {
      "cell_type": "markdown",
      "metadata": {
        "id": "mefSOe8eTmGP"
      },
      "source": [
        "## Object Oriented Programming codes here\n",
        "\n",
        "*You can use multiple code snippets. Just add more if needed*"
      ]
    }
  ],
  "metadata": {
    "colab": {
      "provenance": [],
      "toc_visible": true
    },
    "kernelspec": {
      "display_name": "Python 3 (ipykernel)",
      "language": "python",
      "name": "python3"
    },
    "language_info": {
      "codemirror_mode": {
        "name": "ipython",
        "version": 3
      },
      "file_extension": ".py",
      "mimetype": "text/x-python",
      "name": "python",
      "nbconvert_exporter": "python",
      "pygments_lexer": "ipython3",
      "version": "3.10.10"
    }
  },
  "nbformat": 4,
  "nbformat_minor": 0
}